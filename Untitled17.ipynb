{
  "nbformat": 4,
  "nbformat_minor": 0,
  "metadata": {
    "colab": {
      "provenance": [],
      "authorship_tag": "ABX9TyMsh/FgOCTCQMquTkikPCaD",
      "include_colab_link": true
    },
    "kernelspec": {
      "name": "python3",
      "display_name": "Python 3"
    },
    "language_info": {
      "name": "python"
    }
  },
  "cells": [
    {
      "cell_type": "markdown",
      "metadata": {
        "id": "view-in-github",
        "colab_type": "text"
      },
      "source": [
        "<a href=\"https://colab.research.google.com/github/JairAssisDev/EstruturadeDados/blob/main/Untitled17.ipynb\" target=\"_parent\"><img src=\"https://colab.research.google.com/assets/colab-badge.svg\" alt=\"Open In Colab\"/></a>"
      ]
    },
    {
      "cell_type": "markdown",
      "source": [
        "Um algoritmo de pesquisa linear, também conhecido como busca sequencial, percorre uma lista de elementos um por um até encontrar o elemento desejado. Aqui está um exemplo de implementação em Python:\n",
        "\n"
      ],
      "metadata": {
        "id": "Cp8Bf1pK55ao"
      }
    },
    {
      "cell_type": "code",
      "execution_count": null,
      "metadata": {
        "id": "-rBZtbsa5v6l"
      },
      "outputs": [],
      "source": [
        "def pesquisa_linear(lista, elemento):\n",
        "    for i in range(len(lista)):\n",
        "        if lista[i] == elemento:\n",
        "            return i  # Retorna o índice onde o elemento foi encontrado\n",
        "    return -1  # Retorna -1 se o elemento não foi encontrado\n",
        "\n",
        "# Exemplo de uso\n",
        "numeros = [4, 2, 9, 7, 5, 1, 6, 3, 8]\n",
        "elemento_procurado = 5\n",
        "\n",
        "resultado = pesquisa_linear(numeros, elemento_procurado)\n",
        "\n",
        "if resultado != -1:\n",
        "    print(f\"O elemento {elemento_procurado} foi encontrado no índice {resultado}.\")\n",
        "else:\n",
        "    print(\"O elemento não foi encontrado na lista.\")\n"
      ]
    },
    {
      "cell_type": "markdown",
      "source": [
        "Neste exemplo, a função pesquisa_linear recebe uma lista e um elemento a ser procurado. Ela itera por cada elemento da lista e verifica se é igual ao elemento procurado. Se encontrar uma correspondência, retorna o índice onde o elemento foi encontrado. Caso contrário, retorna -1 para indicar que o elemento não foi encontrado"
      ],
      "metadata": {
        "id": "ul8lTS916Sjf"
      }
    },
    {
      "cell_type": "markdown",
      "source": [
        "No exemplo de uso, uma lista de números é criada e o número 5 é procurado usando a função pesquisa_linear. O resultado é armazenado na variável resultado e depois é verificado se é diferente de -1. Se for diferente, imprime a mensagem indicando o índice onde o elemento foi encontrado. Caso contrário, imprime uma mensagem informando que o elemento não foi encontrado na lista."
      ],
      "metadata": {
        "id": "0Tj9eoMf6XDW"
      }
    },
    {
      "cell_type": "code",
      "source": [],
      "metadata": {
        "id": "8m900BXK6Weu"
      },
      "execution_count": null,
      "outputs": []
    }
  ]
}