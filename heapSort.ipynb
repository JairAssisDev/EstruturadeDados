{
  "nbformat": 4,
  "nbformat_minor": 0,
  "metadata": {
    "colab": {
      "provenance": [],
      "authorship_tag": "ABX9TyPyDN/reOOpUBnbJVN+YnUA",
      "include_colab_link": true
    },
    "kernelspec": {
      "name": "python3",
      "display_name": "Python 3"
    },
    "language_info": {
      "name": "python"
    }
  },
  "cells": [
    {
      "cell_type": "markdown",
      "metadata": {
        "id": "view-in-github",
        "colab_type": "text"
      },
      "source": [
        "<a href=\"https://colab.research.google.com/github/JairAssisDev/EstruturadeDados/blob/main/heapSort.ipynb\" target=\"_parent\"><img src=\"https://colab.research.google.com/assets/colab-badge.svg\" alt=\"Open In Colab\"/></a>"
      ]
    },
    {
      "cell_type": "code",
      "source": [
        "# Heap Sort em python\n",
        "\n",
        "\n",
        "def heapify(arr, n, i):\n",
        "  # Encontre o maior entre root e filhos\n",
        "  maior = i\n",
        "  l = 2 * i + 1\n",
        "  r = 2 * i + 2\n",
        "  \n",
        "  if l < n and arr[i] < arr[l]:\n",
        "    maior = l\n",
        "  \n",
        "  if r < n and arr[maior] < arr[r]:\n",
        "    maior = r\n",
        "  \n",
        "  # If root não é maior, troque com o maior e continue acumulando\n",
        "  if maior != i:\n",
        "    arr[i], arr[maior] = arr[maior], arr[i]\n",
        "    heapify(arr, n, maior)\n",
        "  \n",
        "  \n",
        "def heapSort(arr):\n",
        "  n = len(arr)\n",
        "  \n",
        "      # Build max heap\n",
        "  for i in range(n//2, -1, -1):\n",
        "    heapify(arr, n, i)\n",
        "  \n",
        "  for i in range(n-1, 0, -1):\n",
        "    # Swap\n",
        "    arr[i], arr[0] = arr[0], arr[i]\n",
        "  \n",
        "    print(arr)\n",
        "    # Heapify root element\n",
        "    heapify(arr, i, 0)\n",
        "  \n",
        "  \n",
        "arr = [30, 90, 15, 10, 50, 70, 80]\n",
        "print(arr)\n",
        "heapSort(arr)\n",
        "n = len(arr)\n",
        "print(\"A matriz ordenada é\")\n",
        "for i in range(n):\n",
        "  print(\"%d \" % arr[i], end='')\n",
        "  "
      ],
      "metadata": {
        "colab": {
          "base_uri": "https://localhost:8080/"
        },
        "id": "Hb2Elst5ZgHq",
        "outputId": "12e77aaa-ac52-48c2-c50d-8206092c4159"
      },
      "execution_count": null,
      "outputs": [
        {
          "output_type": "stream",
          "name": "stdout",
          "text": [
            "[30, 90, 15, 10, 50, 70, 80]\n",
            "[15, 50, 80, 10, 30, 70, 90]\n",
            "[15, 50, 70, 10, 30, 80, 90]\n",
            "[30, 50, 15, 10, 70, 80, 90]\n",
            "[10, 30, 15, 50, 70, 80, 90]\n",
            "[15, 10, 30, 50, 70, 80, 90]\n",
            "[10, 15, 30, 50, 70, 80, 90]\n",
            "A matriz ordenada é\n",
            "10 15 30 50 70 80 90 "
          ]
        }
      ]
    }
  ]
}